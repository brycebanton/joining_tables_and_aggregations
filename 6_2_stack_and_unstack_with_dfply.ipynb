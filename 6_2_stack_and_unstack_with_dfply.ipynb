{
 "cells": [
  {
   "cell_type": "markdown",
   "metadata": {
    "slideshow": {
     "slide_type": "slide"
    }
   },
   "source": [
    "# Stacking and unstacking data"
   ]
  },
  {
   "cell_type": "code",
   "execution_count": 1,
   "metadata": {
    "scrolled": true,
    "slideshow": {
     "slide_type": "fragment"
    }
   },
   "outputs": [],
   "source": [
    "import pandas as pd\n",
    "from dfply import *"
   ]
  },
  {
   "cell_type": "markdown",
   "metadata": {
    "slideshow": {
     "slide_type": "slide"
    }
   },
   "source": [
    "## Reshaping data\n",
    "\n",
    "Two ways\n",
    "\n",
    "* We can **stack** data into a *tall* format.\n",
    "* We can **unstack** data into a *long* format."
   ]
  },
  {
   "cell_type": "markdown",
   "metadata": {
    "slideshow": {
     "slide_type": "slide"
    }
   },
   "source": [
    "## (totally real and not at all made-up) Example - Quarterly Auto Sales\n",
    "\n",
    "**Note** the last four columns are\n",
    "\n",
    "* same measurements\n",
    "* same units"
   ]
  },
  {
   "cell_type": "code",
   "execution_count": 2,
   "metadata": {
    "slideshow": {
     "slide_type": "fragment"
    }
   },
   "outputs": [
    {
     "data": {
      "text/html": [
       "<div>\n",
       "<style scoped>\n",
       "    .dataframe tbody tr th:only-of-type {\n",
       "        vertical-align: middle;\n",
       "    }\n",
       "\n",
       "    .dataframe tbody tr th {\n",
       "        vertical-align: top;\n",
       "    }\n",
       "\n",
       "    .dataframe thead th {\n",
       "        text-align: right;\n",
       "    }\n",
       "</style>\n",
       "<table border=\"1\" class=\"dataframe\">\n",
       "  <thead>\n",
       "    <tr style=\"text-align: right;\">\n",
       "      <th></th>\n",
       "      <th>Salesperson</th>\n",
       "      <th>Compact</th>\n",
       "      <th>Sedan</th>\n",
       "      <th>SUV</th>\n",
       "      <th>Truck</th>\n",
       "    </tr>\n",
       "  </thead>\n",
       "  <tbody>\n",
       "    <tr>\n",
       "      <th>0</th>\n",
       "      <td>Ann</td>\n",
       "      <td>22</td>\n",
       "      <td>18</td>\n",
       "      <td>15.0</td>\n",
       "      <td>12</td>\n",
       "    </tr>\n",
       "    <tr>\n",
       "      <th>1</th>\n",
       "      <td>Bob</td>\n",
       "      <td>19</td>\n",
       "      <td>12</td>\n",
       "      <td>17.0</td>\n",
       "      <td>20</td>\n",
       "    </tr>\n",
       "    <tr>\n",
       "      <th>2</th>\n",
       "      <td>Doug</td>\n",
       "      <td>20</td>\n",
       "      <td>13</td>\n",
       "      <td>NaN</td>\n",
       "      <td>20</td>\n",
       "    </tr>\n",
       "    <tr>\n",
       "      <th>3</th>\n",
       "      <td>Yolanda</td>\n",
       "      <td>19</td>\n",
       "      <td>8</td>\n",
       "      <td>32.0</td>\n",
       "      <td>15</td>\n",
       "    </tr>\n",
       "    <tr>\n",
       "      <th>4</th>\n",
       "      <td>Xerxes</td>\n",
       "      <td>12</td>\n",
       "      <td>23</td>\n",
       "      <td>18.0</td>\n",
       "      <td>9</td>\n",
       "    </tr>\n",
       "  </tbody>\n",
       "</table>\n",
       "</div>"
      ],
      "text/plain": [
       "  Salesperson  Compact  Sedan   SUV  Truck\n",
       "0         Ann       22     18  15.0     12\n",
       "1         Bob       19     12  17.0     20\n",
       "2        Doug       20     13   NaN     20\n",
       "3     Yolanda       19      8  32.0     15\n",
       "4      Xerxes       12     23  18.0      9"
      ]
     },
     "execution_count": 2,
     "metadata": {},
     "output_type": "execute_result"
    }
   ],
   "source": [
    "sales = pd.read_csv(\"./data/auto_sales.csv\")\n",
    "sales"
   ]
  },
  {
   "cell_type": "markdown",
   "metadata": {
    "slideshow": {
     "slide_type": "slide"
    }
   },
   "source": [
    "## Stacking measurements of the same type/units\n",
    "\n",
    "<img src=\"./img/stack_in_action.gif\" width=600>\n",
    "\n",
    "We can fix issues with informative column labels by stacking the data with `gather`"
   ]
  },
  {
   "cell_type": "markdown",
   "metadata": {
    "slideshow": {
     "slide_type": "slide"
    }
   },
   "source": [
    "## A Stack by any other name ...\n",
    "\n",
    "The act of stacking similar columns goes by various names.\n",
    "\n",
    "* JMP and Minitab call this *stack*\n",
    "* `pandas` calls this *melt*\n",
    "* Wickham/`tidyr`/`dfply` call this *gather*\n",
    "\n",
    "I prefer **stack**, primarily because it makes it clear we are *melting*/*gathering* data vertically."
   ]
  },
  {
   "cell_type": "markdown",
   "metadata": {
    "slideshow": {
     "slide_type": "slide"
    }
   },
   "source": [
    "## Stacking data in `pandas` with `gather`\n",
    "\n",
    "Syntax: `gather(lbl_col_name, val_col_name, cols_to_stack)`"
   ]
  },
  {
   "cell_type": "code",
   "execution_count": 3,
   "metadata": {
    "slideshow": {
     "slide_type": "fragment"
    }
   },
   "outputs": [
    {
     "data": {
      "text/html": [
       "<div>\n",
       "<style scoped>\n",
       "    .dataframe tbody tr th:only-of-type {\n",
       "        vertical-align: middle;\n",
       "    }\n",
       "\n",
       "    .dataframe tbody tr th {\n",
       "        vertical-align: top;\n",
       "    }\n",
       "\n",
       "    .dataframe thead th {\n",
       "        text-align: right;\n",
       "    }\n",
       "</style>\n",
       "<table border=\"1\" class=\"dataframe\">\n",
       "  <thead>\n",
       "    <tr style=\"text-align: right;\">\n",
       "      <th></th>\n",
       "      <th>Salesperson</th>\n",
       "      <th>CarType</th>\n",
       "      <th>QrtSales</th>\n",
       "    </tr>\n",
       "  </thead>\n",
       "  <tbody>\n",
       "    <tr>\n",
       "      <th>0</th>\n",
       "      <td>Ann</td>\n",
       "      <td>Compact</td>\n",
       "      <td>22.0</td>\n",
       "    </tr>\n",
       "    <tr>\n",
       "      <th>1</th>\n",
       "      <td>Bob</td>\n",
       "      <td>Compact</td>\n",
       "      <td>19.0</td>\n",
       "    </tr>\n",
       "    <tr>\n",
       "      <th>2</th>\n",
       "      <td>Doug</td>\n",
       "      <td>Compact</td>\n",
       "      <td>20.0</td>\n",
       "    </tr>\n",
       "    <tr>\n",
       "      <th>3</th>\n",
       "      <td>Yolanda</td>\n",
       "      <td>Compact</td>\n",
       "      <td>19.0</td>\n",
       "    </tr>\n",
       "    <tr>\n",
       "      <th>4</th>\n",
       "      <td>Xerxes</td>\n",
       "      <td>Compact</td>\n",
       "      <td>12.0</td>\n",
       "    </tr>\n",
       "  </tbody>\n",
       "</table>\n",
       "</div>"
      ],
      "text/plain": [
       "  Salesperson  CarType  QrtSales\n",
       "0         Ann  Compact      22.0\n",
       "1         Bob  Compact      19.0\n",
       "2        Doug  Compact      20.0\n",
       "3     Yolanda  Compact      19.0\n",
       "4      Xerxes  Compact      12.0"
      ]
     },
     "execution_count": 3,
     "metadata": {},
     "output_type": "execute_result"
    }
   ],
   "source": [
    "sales_cols = ['Compact', 'Sedan', 'SUV', 'Truck']\n",
    "sales_stacked = (sales \n",
    "                 >> gather(\"CarType\",\"QrtSales\", sales_cols))\n",
    "sales_stacked >> head"
   ]
  },
  {
   "cell_type": "markdown",
   "metadata": {
    "slideshow": {
     "slide_type": "slide"
    }
   },
   "source": [
    "## Unstacking Data with `spread`\n",
    "\n",
    "Syntax: `spread(split_by_col, to_split_col)`"
   ]
  },
  {
   "cell_type": "code",
   "execution_count": 4,
   "metadata": {
    "slideshow": {
     "slide_type": "fragment"
    }
   },
   "outputs": [
    {
     "data": {
      "text/html": [
       "<div>\n",
       "<style scoped>\n",
       "    .dataframe tbody tr th:only-of-type {\n",
       "        vertical-align: middle;\n",
       "    }\n",
       "\n",
       "    .dataframe tbody tr th {\n",
       "        vertical-align: top;\n",
       "    }\n",
       "\n",
       "    .dataframe thead th {\n",
       "        text-align: right;\n",
       "    }\n",
       "</style>\n",
       "<table border=\"1\" class=\"dataframe\">\n",
       "  <thead>\n",
       "    <tr style=\"text-align: right;\">\n",
       "      <th></th>\n",
       "      <th>Salesperson</th>\n",
       "      <th>Compact</th>\n",
       "      <th>SUV</th>\n",
       "      <th>Sedan</th>\n",
       "      <th>Truck</th>\n",
       "    </tr>\n",
       "  </thead>\n",
       "  <tbody>\n",
       "    <tr>\n",
       "      <th>0</th>\n",
       "      <td>Ann</td>\n",
       "      <td>22.0</td>\n",
       "      <td>15.0</td>\n",
       "      <td>18.0</td>\n",
       "      <td>12.0</td>\n",
       "    </tr>\n",
       "    <tr>\n",
       "      <th>1</th>\n",
       "      <td>Bob</td>\n",
       "      <td>19.0</td>\n",
       "      <td>17.0</td>\n",
       "      <td>12.0</td>\n",
       "      <td>20.0</td>\n",
       "    </tr>\n",
       "    <tr>\n",
       "      <th>2</th>\n",
       "      <td>Doug</td>\n",
       "      <td>20.0</td>\n",
       "      <td>NaN</td>\n",
       "      <td>13.0</td>\n",
       "      <td>20.0</td>\n",
       "    </tr>\n",
       "    <tr>\n",
       "      <th>3</th>\n",
       "      <td>Xerxes</td>\n",
       "      <td>12.0</td>\n",
       "      <td>18.0</td>\n",
       "      <td>23.0</td>\n",
       "      <td>9.0</td>\n",
       "    </tr>\n",
       "    <tr>\n",
       "      <th>4</th>\n",
       "      <td>Yolanda</td>\n",
       "      <td>19.0</td>\n",
       "      <td>32.0</td>\n",
       "      <td>8.0</td>\n",
       "      <td>15.0</td>\n",
       "    </tr>\n",
       "  </tbody>\n",
       "</table>\n",
       "</div>"
      ],
      "text/plain": [
       "  Salesperson  Compact   SUV  Sedan  Truck\n",
       "0         Ann     22.0  15.0   18.0   12.0\n",
       "1         Bob     19.0  17.0   12.0   20.0\n",
       "2        Doug     20.0   NaN   13.0   20.0\n",
       "3      Xerxes     12.0  18.0   23.0    9.0\n",
       "4     Yolanda     19.0  32.0    8.0   15.0"
      ]
     },
     "execution_count": 4,
     "metadata": {},
     "output_type": "execute_result"
    }
   ],
   "source": [
    "(sales_stacked\n",
    " >> spread(X.CarType, X.QrtSales))"
   ]
  },
  {
   "cell_type": "markdown",
   "metadata": {
    "slideshow": {
     "slide_type": "slide"
    }
   },
   "source": [
    "## Safely working with `gather` and `spread`\n",
    "\n",
    "\n",
    "We were lucky the last example worked.  Note that \n",
    "\n",
    "* `spread` needs a unique column to work properly.  \n",
    "* `gather` will add a column by setting `add_id=True`"
   ]
  },
  {
   "cell_type": "code",
   "execution_count": 5,
   "metadata": {
    "slideshow": {
     "slide_type": "fragment"
    }
   },
   "outputs": [
    {
     "data": {
      "text/html": [
       "<div>\n",
       "<style scoped>\n",
       "    .dataframe tbody tr th:only-of-type {\n",
       "        vertical-align: middle;\n",
       "    }\n",
       "\n",
       "    .dataframe tbody tr th {\n",
       "        vertical-align: top;\n",
       "    }\n",
       "\n",
       "    .dataframe thead th {\n",
       "        text-align: right;\n",
       "    }\n",
       "</style>\n",
       "<table border=\"1\" class=\"dataframe\">\n",
       "  <thead>\n",
       "    <tr style=\"text-align: right;\">\n",
       "      <th></th>\n",
       "      <th>Salesperson</th>\n",
       "      <th>_ID</th>\n",
       "      <th>CarType</th>\n",
       "      <th>QrtSales</th>\n",
       "    </tr>\n",
       "  </thead>\n",
       "  <tbody>\n",
       "    <tr>\n",
       "      <th>0</th>\n",
       "      <td>Ann</td>\n",
       "      <td>0</td>\n",
       "      <td>Compact</td>\n",
       "      <td>22.0</td>\n",
       "    </tr>\n",
       "    <tr>\n",
       "      <th>1</th>\n",
       "      <td>Bob</td>\n",
       "      <td>1</td>\n",
       "      <td>Compact</td>\n",
       "      <td>19.0</td>\n",
       "    </tr>\n",
       "  </tbody>\n",
       "</table>\n",
       "</div>"
      ],
      "text/plain": [
       "  Salesperson  _ID  CarType  QrtSales\n",
       "0         Ann    0  Compact      22.0\n",
       "1         Bob    1  Compact      19.0"
      ]
     },
     "execution_count": 5,
     "metadata": {},
     "output_type": "execute_result"
    }
   ],
   "source": [
    "sales_stacked = sales >> gather(\"CarType\",\"QrtSales\", sales_cols, add_id=True)\n",
    "sales_stacked >> head(2)"
   ]
  },
  {
   "cell_type": "code",
   "execution_count": 6,
   "metadata": {
    "slideshow": {
     "slide_type": "fragment"
    }
   },
   "outputs": [
    {
     "data": {
      "text/html": [
       "<div>\n",
       "<style scoped>\n",
       "    .dataframe tbody tr th:only-of-type {\n",
       "        vertical-align: middle;\n",
       "    }\n",
       "\n",
       "    .dataframe tbody tr th {\n",
       "        vertical-align: top;\n",
       "    }\n",
       "\n",
       "    .dataframe thead th {\n",
       "        text-align: right;\n",
       "    }\n",
       "</style>\n",
       "<table border=\"1\" class=\"dataframe\">\n",
       "  <thead>\n",
       "    <tr style=\"text-align: right;\">\n",
       "      <th></th>\n",
       "      <th>Salesperson</th>\n",
       "      <th>_ID</th>\n",
       "      <th>Compact</th>\n",
       "      <th>SUV</th>\n",
       "      <th>Sedan</th>\n",
       "      <th>Truck</th>\n",
       "    </tr>\n",
       "  </thead>\n",
       "  <tbody>\n",
       "    <tr>\n",
       "      <th>0</th>\n",
       "      <td>Ann</td>\n",
       "      <td>0</td>\n",
       "      <td>22.0</td>\n",
       "      <td>15.0</td>\n",
       "      <td>18.0</td>\n",
       "      <td>12.0</td>\n",
       "    </tr>\n",
       "    <tr>\n",
       "      <th>1</th>\n",
       "      <td>Bob</td>\n",
       "      <td>1</td>\n",
       "      <td>19.0</td>\n",
       "      <td>17.0</td>\n",
       "      <td>12.0</td>\n",
       "      <td>20.0</td>\n",
       "    </tr>\n",
       "  </tbody>\n",
       "</table>\n",
       "</div>"
      ],
      "text/plain": [
       "  Salesperson  _ID  Compact   SUV  Sedan  Truck\n",
       "0         Ann    0     22.0  15.0   18.0   12.0\n",
       "1         Bob    1     19.0  17.0   12.0   20.0"
      ]
     },
     "execution_count": 6,
     "metadata": {},
     "output_type": "execute_result"
    }
   ],
   "source": [
    "sales_stacked >> spread(X.CarType, X.QrtSales) >> head(2)"
   ]
  },
  {
   "cell_type": "markdown",
   "metadata": {
    "slideshow": {
     "slide_type": "slide"
    }
   },
   "source": [
    "## Why Stack?\n",
    "\n",
    "* Perform transformations on many columns.\n",
    "* Fix problems with the Golden Rule"
   ]
  },
  {
   "cell_type": "markdown",
   "metadata": {
    "slideshow": {
     "slide_type": "slide"
    }
   },
   "source": [
    "## Example - Switching Units on All Sales\n",
    "\n",
    "Suppose your manager wants these numbers in *monthly* sales.  You could\n",
    "\n",
    "1. Adjust each column with a separate formula\n",
    "2. Stack --> Transform once --> Unstack"
   ]
  },
  {
   "cell_type": "markdown",
   "metadata": {
    "slideshow": {
     "slide_type": "slide"
    }
   },
   "source": [
    "#### Method 1 - Column Transformations"
   ]
  },
  {
   "cell_type": "code",
   "execution_count": 7,
   "metadata": {
    "slideshow": {
     "slide_type": "fragment"
    }
   },
   "outputs": [
    {
     "data": {
      "text/html": [
       "<div>\n",
       "<style scoped>\n",
       "    .dataframe tbody tr th:only-of-type {\n",
       "        vertical-align: middle;\n",
       "    }\n",
       "\n",
       "    .dataframe tbody tr th {\n",
       "        vertical-align: top;\n",
       "    }\n",
       "\n",
       "    .dataframe thead th {\n",
       "        text-align: right;\n",
       "    }\n",
       "</style>\n",
       "<table border=\"1\" class=\"dataframe\">\n",
       "  <thead>\n",
       "    <tr style=\"text-align: right;\">\n",
       "      <th></th>\n",
       "      <th>Salesperson</th>\n",
       "      <th>Compact</th>\n",
       "      <th>Sedan</th>\n",
       "      <th>SUV</th>\n",
       "      <th>Truck</th>\n",
       "    </tr>\n",
       "  </thead>\n",
       "  <tbody>\n",
       "    <tr>\n",
       "      <th>0</th>\n",
       "      <td>Ann</td>\n",
       "      <td>7.333333</td>\n",
       "      <td>6.0</td>\n",
       "      <td>5.000000</td>\n",
       "      <td>4.000000</td>\n",
       "    </tr>\n",
       "    <tr>\n",
       "      <th>1</th>\n",
       "      <td>Bob</td>\n",
       "      <td>6.333333</td>\n",
       "      <td>4.0</td>\n",
       "      <td>5.666667</td>\n",
       "      <td>6.666667</td>\n",
       "    </tr>\n",
       "  </tbody>\n",
       "</table>\n",
       "</div>"
      ],
      "text/plain": [
       "  Salesperson   Compact  Sedan       SUV     Truck\n",
       "0         Ann  7.333333    6.0  5.000000  4.000000\n",
       "1         Bob  6.333333    4.0  5.666667  6.666667"
      ]
     },
     "execution_count": 7,
     "metadata": {},
     "output_type": "execute_result"
    }
   ],
   "source": [
    "(sales\n",
    " >> mutate(Compact = X.Compact/3,\n",
    "           SUV =   X.SUV/3,\n",
    "           Sedan = X.Sedan/3,\n",
    "           Truck = X.Truck/3)\n",
    " >> head(2))"
   ]
  },
  {
   "cell_type": "markdown",
   "metadata": {
    "slideshow": {
     "slide_type": "slide"
    }
   },
   "source": [
    "#### Method 2 - Stack-Transform-Unstack"
   ]
  },
  {
   "cell_type": "code",
   "execution_count": 8,
   "metadata": {
    "slideshow": {
     "slide_type": "fragment"
    }
   },
   "outputs": [
    {
     "data": {
      "text/html": [
       "<div>\n",
       "<style scoped>\n",
       "    .dataframe tbody tr th:only-of-type {\n",
       "        vertical-align: middle;\n",
       "    }\n",
       "\n",
       "    .dataframe tbody tr th {\n",
       "        vertical-align: top;\n",
       "    }\n",
       "\n",
       "    .dataframe thead th {\n",
       "        text-align: right;\n",
       "    }\n",
       "</style>\n",
       "<table border=\"1\" class=\"dataframe\">\n",
       "  <thead>\n",
       "    <tr style=\"text-align: right;\">\n",
       "      <th></th>\n",
       "      <th>Salesperson</th>\n",
       "      <th>Compact</th>\n",
       "      <th>SUV</th>\n",
       "      <th>Sedan</th>\n",
       "      <th>Truck</th>\n",
       "    </tr>\n",
       "  </thead>\n",
       "  <tbody>\n",
       "    <tr>\n",
       "      <th>0</th>\n",
       "      <td>Ann</td>\n",
       "      <td>7.333333</td>\n",
       "      <td>5.000000</td>\n",
       "      <td>6.0</td>\n",
       "      <td>4.000000</td>\n",
       "    </tr>\n",
       "    <tr>\n",
       "      <th>1</th>\n",
       "      <td>Bob</td>\n",
       "      <td>6.333333</td>\n",
       "      <td>5.666667</td>\n",
       "      <td>4.0</td>\n",
       "      <td>6.666667</td>\n",
       "    </tr>\n",
       "  </tbody>\n",
       "</table>\n",
       "</div>"
      ],
      "text/plain": [
       "  Salesperson   Compact       SUV  Sedan     Truck\n",
       "0         Ann  7.333333  5.000000    6.0  4.000000\n",
       "1         Bob  6.333333  5.666667    4.0  6.666667"
      ]
     },
     "execution_count": 8,
     "metadata": {},
     "output_type": "execute_result"
    }
   ],
   "source": [
    "(sales \n",
    " >> gather(\"CarType\",\"QrtSales\", sales_cols)\n",
    " >> mutate(MonSales = X.QrtSales/3)\n",
    " >> drop(X.QrtSales)\n",
    " >> spread(X.CarType, X.MonSales)\n",
    " >> head(2))"
   ]
  },
  {
   "cell_type": "markdown",
   "metadata": {
    "slideshow": {
     "slide_type": "slide"
    }
   },
   "source": [
    "## Comparing the two methods\n",
    "\n",
    "**Method 1:**\n",
    "* More straight forward\n",
    "* Lots of repeated code\n",
    "* Doesn't scale ... imagine 100+ columns\n",
    "\n",
    "**Method 2:**\n",
    "* More complicated\n",
    "* Scales well\n"
   ]
  },
  {
   "cell_type": "markdown",
   "metadata": {
    "slideshow": {
     "slide_type": "slide"
    }
   },
   "source": [
    "## <font color=\"red\"> Exercise 1 </font>\n",
    "    \n",
    "**Task:** Load the `health_survey.csv` data and use the Stack-Transform-Unstack trick to transform the responses to a Lickert scale where *Strongly Agree* mapped to 5 and *Strongly Disagree* mapped to 1\n"
   ]
  },
  {
   "cell_type": "code",
   "execution_count": 9,
   "metadata": {
    "scrolled": true,
    "slideshow": {
     "slide_type": "fragment"
    }
   },
   "outputs": [
    {
     "data": {
      "text/html": [
       "<div>\n",
       "<style scoped>\n",
       "    .dataframe tbody tr th:only-of-type {\n",
       "        vertical-align: middle;\n",
       "    }\n",
       "\n",
       "    .dataframe tbody tr th {\n",
       "        vertical-align: top;\n",
       "    }\n",
       "\n",
       "    .dataframe thead th {\n",
       "        text-align: right;\n",
       "    }\n",
       "</style>\n",
       "<table border=\"1\" class=\"dataframe\">\n",
       "  <thead>\n",
       "    <tr style=\"text-align: right;\">\n",
       "      <th></th>\n",
       "      <th>Unnamed: 0</th>\n",
       "      <th>F1</th>\n",
       "      <th>F5</th>\n",
       "      <th>F2</th>\n",
       "      <th>F1.1</th>\n",
       "      <th>F2.1</th>\n",
       "      <th>F6</th>\n",
       "      <th>F4</th>\n",
       "      <th>F3</th>\n",
       "      <th>F5.1</th>\n",
       "      <th>...</th>\n",
       "      <th>F2.9</th>\n",
       "      <th>F3.4</th>\n",
       "      <th>F4.3</th>\n",
       "      <th>F2.10</th>\n",
       "      <th>F1.7</th>\n",
       "      <th>F6.4</th>\n",
       "      <th>F4.4</th>\n",
       "      <th>F5.7</th>\n",
       "      <th>F3.5</th>\n",
       "      <th>F2.11</th>\n",
       "    </tr>\n",
       "  </thead>\n",
       "  <tbody>\n",
       "    <tr>\n",
       "      <th>0</th>\n",
       "      <td>1</td>\n",
       "      <td>Somewhat Agree</td>\n",
       "      <td>Somewhat Disagree</td>\n",
       "      <td>Somewhat Agree</td>\n",
       "      <td>Somewhat Agree</td>\n",
       "      <td>Somewhat Agree</td>\n",
       "      <td>Somewhat Disagree</td>\n",
       "      <td>Somewhat Agree</td>\n",
       "      <td>Somewhat Agree</td>\n",
       "      <td>Somewhat Agree</td>\n",
       "      <td>...</td>\n",
       "      <td>Somewhat Agree</td>\n",
       "      <td>Somewhat Disagree</td>\n",
       "      <td>Neither Agree nor Disagree</td>\n",
       "      <td>Somewhat Agree</td>\n",
       "      <td>Somewhat Agree</td>\n",
       "      <td>Somewhat Agree</td>\n",
       "      <td>Somewhat Agree</td>\n",
       "      <td>Somewhat Agree</td>\n",
       "      <td>Somewhat Agree</td>\n",
       "      <td>Somewhat Agree</td>\n",
       "    </tr>\n",
       "    <tr>\n",
       "      <th>1</th>\n",
       "      <td>2</td>\n",
       "      <td>Somewhat Agree</td>\n",
       "      <td>Somewhat Disagree</td>\n",
       "      <td>Somewhat Agree</td>\n",
       "      <td>Somewhat Agree</td>\n",
       "      <td>Somewhat Agree</td>\n",
       "      <td>Somewhat Disagree</td>\n",
       "      <td>Somewhat Agree</td>\n",
       "      <td>Neither Agree nor Disagree</td>\n",
       "      <td>Neither Agree nor Disagree</td>\n",
       "      <td>...</td>\n",
       "      <td>Somewhat Agree</td>\n",
       "      <td>Somewhat Agree</td>\n",
       "      <td>Neither Agree nor Disagree</td>\n",
       "      <td>Somewhat Agree</td>\n",
       "      <td>Somewhat Agree</td>\n",
       "      <td>Somewhat Disagree</td>\n",
       "      <td>Neither Agree nor Disagree</td>\n",
       "      <td>Somewhat Agree</td>\n",
       "      <td>Neither Agree nor Disagree</td>\n",
       "      <td>Somewhat Agree</td>\n",
       "    </tr>\n",
       "  </tbody>\n",
       "</table>\n",
       "<p>2 rows × 45 columns</p>\n",
       "</div>"
      ],
      "text/plain": [
       "   Unnamed: 0              F1                 F5              F2  \\\n",
       "0           1  Somewhat Agree  Somewhat Disagree  Somewhat Agree   \n",
       "1           2  Somewhat Agree  Somewhat Disagree  Somewhat Agree   \n",
       "\n",
       "             F1.1            F2.1                 F6              F4  \\\n",
       "0  Somewhat Agree  Somewhat Agree  Somewhat Disagree  Somewhat Agree   \n",
       "1  Somewhat Agree  Somewhat Agree  Somewhat Disagree  Somewhat Agree   \n",
       "\n",
       "                           F3                        F5.1  ...  \\\n",
       "0              Somewhat Agree              Somewhat Agree  ...   \n",
       "1  Neither Agree nor Disagree  Neither Agree nor Disagree  ...   \n",
       "\n",
       "             F2.9               F3.4                        F4.3  \\\n",
       "0  Somewhat Agree  Somewhat Disagree  Neither Agree nor Disagree   \n",
       "1  Somewhat Agree     Somewhat Agree  Neither Agree nor Disagree   \n",
       "\n",
       "            F2.10            F1.7               F6.4  \\\n",
       "0  Somewhat Agree  Somewhat Agree     Somewhat Agree   \n",
       "1  Somewhat Agree  Somewhat Agree  Somewhat Disagree   \n",
       "\n",
       "                         F4.4            F5.7                        F3.5  \\\n",
       "0              Somewhat Agree  Somewhat Agree              Somewhat Agree   \n",
       "1  Neither Agree nor Disagree  Somewhat Agree  Neither Agree nor Disagree   \n",
       "\n",
       "            F2.11  \n",
       "0  Somewhat Agree  \n",
       "1  Somewhat Agree  \n",
       "\n",
       "[2 rows x 45 columns]"
      ]
     },
     "execution_count": 9,
     "metadata": {},
     "output_type": "execute_result"
    }
   ],
   "source": [
    "survey = pd.read_csv(\"./data/health_survey.csv\")\n",
    "survey.head(2)"
   ]
  },
  {
   "cell_type": "code",
   "execution_count": 74,
   "metadata": {
    "scrolled": true
   },
   "outputs": [
    {
     "data": {
      "text/html": [
       "<div>\n",
       "<style scoped>\n",
       "    .dataframe tbody tr th:only-of-type {\n",
       "        vertical-align: middle;\n",
       "    }\n",
       "\n",
       "    .dataframe tbody tr th {\n",
       "        vertical-align: top;\n",
       "    }\n",
       "\n",
       "    .dataframe thead th {\n",
       "        text-align: right;\n",
       "    }\n",
       "</style>\n",
       "<table border=\"1\" class=\"dataframe\">\n",
       "  <thead>\n",
       "    <tr style=\"text-align: right;\">\n",
       "      <th></th>\n",
       "      <th>Unnamed: 0</th>\n",
       "      <th>Scale</th>\n",
       "      <th>F1</th>\n",
       "      <th>F1.1</th>\n",
       "      <th>F1.2</th>\n",
       "      <th>F1.3</th>\n",
       "      <th>F1.4</th>\n",
       "      <th>F1.5</th>\n",
       "      <th>F1.6</th>\n",
       "      <th>F1.7</th>\n",
       "      <th>...</th>\n",
       "      <th>F5.3</th>\n",
       "      <th>F5.4</th>\n",
       "      <th>F5.5</th>\n",
       "      <th>F5.6</th>\n",
       "      <th>F5.7</th>\n",
       "      <th>F6</th>\n",
       "      <th>F6.1</th>\n",
       "      <th>F6.2</th>\n",
       "      <th>F6.3</th>\n",
       "      <th>F6.4</th>\n",
       "    </tr>\n",
       "  </thead>\n",
       "  <tbody>\n",
       "    <tr>\n",
       "      <th>0</th>\n",
       "      <td>1</td>\n",
       "      <td>Neither Agree nor Disagree</td>\n",
       "      <td>NaN</td>\n",
       "      <td>NaN</td>\n",
       "      <td>NaN</td>\n",
       "      <td>NaN</td>\n",
       "      <td>3.0</td>\n",
       "      <td>NaN</td>\n",
       "      <td>NaN</td>\n",
       "      <td>NaN</td>\n",
       "      <td>...</td>\n",
       "      <td>NaN</td>\n",
       "      <td>NaN</td>\n",
       "      <td>NaN</td>\n",
       "      <td>NaN</td>\n",
       "      <td>NaN</td>\n",
       "      <td>NaN</td>\n",
       "      <td>NaN</td>\n",
       "      <td>NaN</td>\n",
       "      <td>NaN</td>\n",
       "      <td>NaN</td>\n",
       "    </tr>\n",
       "    <tr>\n",
       "      <th>1</th>\n",
       "      <td>1</td>\n",
       "      <td>Somewhat Agree</td>\n",
       "      <td>4.0</td>\n",
       "      <td>4.0</td>\n",
       "      <td>4.0</td>\n",
       "      <td>4.0</td>\n",
       "      <td>NaN</td>\n",
       "      <td>4.0</td>\n",
       "      <td>4.0</td>\n",
       "      <td>4.0</td>\n",
       "      <td>...</td>\n",
       "      <td>4.0</td>\n",
       "      <td>4.0</td>\n",
       "      <td>NaN</td>\n",
       "      <td>4.0</td>\n",
       "      <td>4.0</td>\n",
       "      <td>NaN</td>\n",
       "      <td>4.0</td>\n",
       "      <td>4.0</td>\n",
       "      <td>NaN</td>\n",
       "      <td>4.0</td>\n",
       "    </tr>\n",
       "    <tr>\n",
       "      <th>2</th>\n",
       "      <td>1</td>\n",
       "      <td>Somewhat Disagree</td>\n",
       "      <td>NaN</td>\n",
       "      <td>NaN</td>\n",
       "      <td>NaN</td>\n",
       "      <td>NaN</td>\n",
       "      <td>NaN</td>\n",
       "      <td>NaN</td>\n",
       "      <td>NaN</td>\n",
       "      <td>NaN</td>\n",
       "      <td>...</td>\n",
       "      <td>NaN</td>\n",
       "      <td>NaN</td>\n",
       "      <td>NaN</td>\n",
       "      <td>NaN</td>\n",
       "      <td>NaN</td>\n",
       "      <td>NaN</td>\n",
       "      <td>NaN</td>\n",
       "      <td>NaN</td>\n",
       "      <td>NaN</td>\n",
       "      <td>NaN</td>\n",
       "    </tr>\n",
       "    <tr>\n",
       "      <th>3</th>\n",
       "      <td>2</td>\n",
       "      <td>Neither Agree nor Disagree</td>\n",
       "      <td>NaN</td>\n",
       "      <td>NaN</td>\n",
       "      <td>NaN</td>\n",
       "      <td>NaN</td>\n",
       "      <td>NaN</td>\n",
       "      <td>3.0</td>\n",
       "      <td>NaN</td>\n",
       "      <td>NaN</td>\n",
       "      <td>...</td>\n",
       "      <td>NaN</td>\n",
       "      <td>3.0</td>\n",
       "      <td>3.0</td>\n",
       "      <td>NaN</td>\n",
       "      <td>NaN</td>\n",
       "      <td>NaN</td>\n",
       "      <td>NaN</td>\n",
       "      <td>NaN</td>\n",
       "      <td>NaN</td>\n",
       "      <td>NaN</td>\n",
       "    </tr>\n",
       "    <tr>\n",
       "      <th>4</th>\n",
       "      <td>2</td>\n",
       "      <td>Somewhat Agree</td>\n",
       "      <td>4.0</td>\n",
       "      <td>4.0</td>\n",
       "      <td>4.0</td>\n",
       "      <td>4.0</td>\n",
       "      <td>4.0</td>\n",
       "      <td>NaN</td>\n",
       "      <td>4.0</td>\n",
       "      <td>4.0</td>\n",
       "      <td>...</td>\n",
       "      <td>4.0</td>\n",
       "      <td>NaN</td>\n",
       "      <td>NaN</td>\n",
       "      <td>NaN</td>\n",
       "      <td>4.0</td>\n",
       "      <td>NaN</td>\n",
       "      <td>4.0</td>\n",
       "      <td>4.0</td>\n",
       "      <td>NaN</td>\n",
       "      <td>NaN</td>\n",
       "    </tr>\n",
       "    <tr>\n",
       "      <th>...</th>\n",
       "      <td>...</td>\n",
       "      <td>...</td>\n",
       "      <td>...</td>\n",
       "      <td>...</td>\n",
       "      <td>...</td>\n",
       "      <td>...</td>\n",
       "      <td>...</td>\n",
       "      <td>...</td>\n",
       "      <td>...</td>\n",
       "      <td>...</td>\n",
       "      <td>...</td>\n",
       "      <td>...</td>\n",
       "      <td>...</td>\n",
       "      <td>...</td>\n",
       "      <td>...</td>\n",
       "      <td>...</td>\n",
       "      <td>...</td>\n",
       "      <td>...</td>\n",
       "      <td>...</td>\n",
       "      <td>...</td>\n",
       "      <td>...</td>\n",
       "    </tr>\n",
       "    <tr>\n",
       "      <th>1218</th>\n",
       "      <td>264</td>\n",
       "      <td>Neither Agree nor Disagree</td>\n",
       "      <td>NaN</td>\n",
       "      <td>NaN</td>\n",
       "      <td>NaN</td>\n",
       "      <td>NaN</td>\n",
       "      <td>NaN</td>\n",
       "      <td>NaN</td>\n",
       "      <td>NaN</td>\n",
       "      <td>NaN</td>\n",
       "      <td>...</td>\n",
       "      <td>NaN</td>\n",
       "      <td>3.0</td>\n",
       "      <td>NaN</td>\n",
       "      <td>NaN</td>\n",
       "      <td>NaN</td>\n",
       "      <td>3.0</td>\n",
       "      <td>NaN</td>\n",
       "      <td>NaN</td>\n",
       "      <td>3.0</td>\n",
       "      <td>3.0</td>\n",
       "    </tr>\n",
       "    <tr>\n",
       "      <th>1219</th>\n",
       "      <td>264</td>\n",
       "      <td>Somewhat Agree</td>\n",
       "      <td>4.0</td>\n",
       "      <td>4.0</td>\n",
       "      <td>NaN</td>\n",
       "      <td>4.0</td>\n",
       "      <td>4.0</td>\n",
       "      <td>4.0</td>\n",
       "      <td>4.0</td>\n",
       "      <td>4.0</td>\n",
       "      <td>...</td>\n",
       "      <td>4.0</td>\n",
       "      <td>NaN</td>\n",
       "      <td>NaN</td>\n",
       "      <td>NaN</td>\n",
       "      <td>NaN</td>\n",
       "      <td>NaN</td>\n",
       "      <td>4.0</td>\n",
       "      <td>4.0</td>\n",
       "      <td>NaN</td>\n",
       "      <td>NaN</td>\n",
       "    </tr>\n",
       "    <tr>\n",
       "      <th>1220</th>\n",
       "      <td>264</td>\n",
       "      <td>Somewhat Disagree</td>\n",
       "      <td>NaN</td>\n",
       "      <td>NaN</td>\n",
       "      <td>NaN</td>\n",
       "      <td>NaN</td>\n",
       "      <td>NaN</td>\n",
       "      <td>NaN</td>\n",
       "      <td>NaN</td>\n",
       "      <td>NaN</td>\n",
       "      <td>...</td>\n",
       "      <td>NaN</td>\n",
       "      <td>NaN</td>\n",
       "      <td>NaN</td>\n",
       "      <td>NaN</td>\n",
       "      <td>NaN</td>\n",
       "      <td>NaN</td>\n",
       "      <td>NaN</td>\n",
       "      <td>NaN</td>\n",
       "      <td>NaN</td>\n",
       "      <td>NaN</td>\n",
       "    </tr>\n",
       "    <tr>\n",
       "      <th>1221</th>\n",
       "      <td>264</td>\n",
       "      <td>Strongly Agree</td>\n",
       "      <td>NaN</td>\n",
       "      <td>NaN</td>\n",
       "      <td>5.0</td>\n",
       "      <td>NaN</td>\n",
       "      <td>NaN</td>\n",
       "      <td>NaN</td>\n",
       "      <td>NaN</td>\n",
       "      <td>NaN</td>\n",
       "      <td>...</td>\n",
       "      <td>NaN</td>\n",
       "      <td>NaN</td>\n",
       "      <td>NaN</td>\n",
       "      <td>NaN</td>\n",
       "      <td>5.0</td>\n",
       "      <td>NaN</td>\n",
       "      <td>NaN</td>\n",
       "      <td>NaN</td>\n",
       "      <td>NaN</td>\n",
       "      <td>NaN</td>\n",
       "    </tr>\n",
       "    <tr>\n",
       "      <th>1222</th>\n",
       "      <td>264</td>\n",
       "      <td>Strongly Disagree</td>\n",
       "      <td>NaN</td>\n",
       "      <td>NaN</td>\n",
       "      <td>NaN</td>\n",
       "      <td>NaN</td>\n",
       "      <td>NaN</td>\n",
       "      <td>NaN</td>\n",
       "      <td>NaN</td>\n",
       "      <td>NaN</td>\n",
       "      <td>...</td>\n",
       "      <td>NaN</td>\n",
       "      <td>NaN</td>\n",
       "      <td>1.0</td>\n",
       "      <td>NaN</td>\n",
       "      <td>NaN</td>\n",
       "      <td>NaN</td>\n",
       "      <td>NaN</td>\n",
       "      <td>NaN</td>\n",
       "      <td>NaN</td>\n",
       "      <td>NaN</td>\n",
       "    </tr>\n",
       "  </tbody>\n",
       "</table>\n",
       "<p>1223 rows × 46 columns</p>\n",
       "</div>"
      ],
      "text/plain": [
       "      Unnamed: 0                       Scale   F1  F1.1  F1.2  F1.3  F1.4  \\\n",
       "0              1  Neither Agree nor Disagree  NaN   NaN   NaN   NaN   3.0   \n",
       "1              1              Somewhat Agree  4.0   4.0   4.0   4.0   NaN   \n",
       "2              1           Somewhat Disagree  NaN   NaN   NaN   NaN   NaN   \n",
       "3              2  Neither Agree nor Disagree  NaN   NaN   NaN   NaN   NaN   \n",
       "4              2              Somewhat Agree  4.0   4.0   4.0   4.0   4.0   \n",
       "...          ...                         ...  ...   ...   ...   ...   ...   \n",
       "1218         264  Neither Agree nor Disagree  NaN   NaN   NaN   NaN   NaN   \n",
       "1219         264              Somewhat Agree  4.0   4.0   NaN   4.0   4.0   \n",
       "1220         264           Somewhat Disagree  NaN   NaN   NaN   NaN   NaN   \n",
       "1221         264              Strongly Agree  NaN   NaN   5.0   NaN   NaN   \n",
       "1222         264           Strongly Disagree  NaN   NaN   NaN   NaN   NaN   \n",
       "\n",
       "      F1.5  F1.6  F1.7  ...  F5.3  F5.4  F5.5  F5.6  F5.7   F6  F6.1  F6.2  \\\n",
       "0      NaN   NaN   NaN  ...   NaN   NaN   NaN   NaN   NaN  NaN   NaN   NaN   \n",
       "1      4.0   4.0   4.0  ...   4.0   4.0   NaN   4.0   4.0  NaN   4.0   4.0   \n",
       "2      NaN   NaN   NaN  ...   NaN   NaN   NaN   NaN   NaN  NaN   NaN   NaN   \n",
       "3      3.0   NaN   NaN  ...   NaN   3.0   3.0   NaN   NaN  NaN   NaN   NaN   \n",
       "4      NaN   4.0   4.0  ...   4.0   NaN   NaN   NaN   4.0  NaN   4.0   4.0   \n",
       "...    ...   ...   ...  ...   ...   ...   ...   ...   ...  ...   ...   ...   \n",
       "1218   NaN   NaN   NaN  ...   NaN   3.0   NaN   NaN   NaN  3.0   NaN   NaN   \n",
       "1219   4.0   4.0   4.0  ...   4.0   NaN   NaN   NaN   NaN  NaN   4.0   4.0   \n",
       "1220   NaN   NaN   NaN  ...   NaN   NaN   NaN   NaN   NaN  NaN   NaN   NaN   \n",
       "1221   NaN   NaN   NaN  ...   NaN   NaN   NaN   NaN   5.0  NaN   NaN   NaN   \n",
       "1222   NaN   NaN   NaN  ...   NaN   NaN   1.0   NaN   NaN  NaN   NaN   NaN   \n",
       "\n",
       "      F6.3  F6.4  \n",
       "0      NaN   NaN  \n",
       "1      NaN   4.0  \n",
       "2      NaN   NaN  \n",
       "3      NaN   NaN  \n",
       "4      NaN   NaN  \n",
       "...    ...   ...  \n",
       "1218   3.0   3.0  \n",
       "1219   NaN   NaN  \n",
       "1220   NaN   NaN  \n",
       "1221   NaN   NaN  \n",
       "1222   NaN   NaN  \n",
       "\n",
       "[1223 rows x 46 columns]"
      ]
     },
     "execution_count": 74,
     "metadata": {},
     "output_type": "execute_result"
    }
   ],
   "source": [
    "survey_cols = ['F1', 'F5', 'F2', 'F1.1', 'F2.1', 'F6', 'F4', 'F3',\n",
    "       'F5.1', 'F1.2', 'F2.2', 'F6.1', 'F2.3', 'F4.1', 'F2.4', 'F5.2', 'F2.5',\n",
    "       'F6.2', 'F1.3', 'F2.6', 'F5.3', 'F4.2', 'F2.7', 'F3.1', 'F2.8', 'F5.4',\n",
    "       'F3.2', 'F1.4', 'F3.3', 'F1.5', 'F5.5', 'F6.3', 'F1.6', 'F5.6', 'F2.9',\n",
    "       'F3.4', 'F4.3', 'F2.10', 'F1.7', 'F6.4', 'F4.4', 'F5.7', 'F3.5',\n",
    "       'F2.11']\n",
    "lic_scale = {'Strongly Agree' : 5, 'Somewhat Agree' : 4, 'Neither Agree nor Disagree': 3,\n",
    "            'Somehwat Disagree' : 2, 'Strongly Disagree' : 1}\n",
    "survey_gathered_spread = (survey\n",
    ">> gather('Type','Scale',survey_cols)\n",
    ">> mutate(lickert_scale = X.Scale.map(lic_scale))\n",
    ">> spread(X.Type,X.lickert_scale)                       \n",
    "                         )\n",
    "survey_gathered_spread"
   ]
  },
  {
   "cell_type": "code",
   "execution_count": null,
   "metadata": {},
   "outputs": [],
   "source": []
  }
 ],
 "metadata": {
  "celltoolbar": "Slideshow",
  "kernelspec": {
   "display_name": "Python 3",
   "language": "python",
   "name": "python3"
  },
  "language_info": {
   "codemirror_mode": {
    "name": "ipython",
    "version": 3
   },
   "file_extension": ".py",
   "mimetype": "text/x-python",
   "name": "python",
   "nbconvert_exporter": "python",
   "pygments_lexer": "ipython3",
   "version": "3.7.6"
  },
  "varInspector": {
   "cols": {
    "lenName": 16,
    "lenType": 16,
    "lenVar": 40
   },
   "kernels_config": {
    "python": {
     "delete_cmd_postfix": "",
     "delete_cmd_prefix": "del ",
     "library": "var_list.py",
     "varRefreshCmd": "print(var_dic_list())"
    },
    "r": {
     "delete_cmd_postfix": ") ",
     "delete_cmd_prefix": "rm(",
     "library": "var_list.r",
     "varRefreshCmd": "cat(var_dic_list()) "
    }
   },
   "types_to_exclude": [
    "module",
    "function",
    "builtin_function_or_method",
    "instance",
    "_Feature"
   ],
   "window_display": false
  }
 },
 "nbformat": 4,
 "nbformat_minor": 2
}
